{
 "cells": [
  {
   "cell_type": "code",
   "execution_count": 1,
   "id": "052175b1",
   "metadata": {},
   "outputs": [
    {
     "name": "stdout",
     "output_type": "stream",
     "text": [
      "¿Cuantos números quieres generar? [1-20]: 5\n",
      "¿Cómo quieres redondear los números? [1]Al alza [2]A la baja [3]Normal: 2\n",
      "68.10598567891623 => 68\n",
      "71.91501369546405 => 71\n",
      "19.593548798778627 => 19\n",
      "10.032435142884422 => 10\n",
      "2.98403122111144 => 2\n"
     ]
    },
    {
     "data": {
      "text/plain": [
       "[68, 71, 19, 10, 2]"
      ]
     },
     "execution_count": 1,
     "metadata": {},
     "output_type": "execute_result"
    }
   ],
   "source": [
    "import random\n",
    "import math\n",
    "\n",
    "# Completa el código aquí\n",
    "\n",
    "def leer_numero(ini,fin,mensaje):\n",
    "    while True:\n",
    "        try:\n",
    "            valor = int( input(mensaje) )\n",
    "        except:\n",
    "            pass\n",
    "        else:\n",
    "            if valor >= ini and valor <= fin:\n",
    "                break\n",
    "    return valor\n",
    "\n",
    "def generador():\n",
    "    numeros = leer_numero(1,20,\"¿Cuantos números quieres generar? [1-20]: \")\n",
    "    modo = leer_numero(1,3,\"¿Cómo quieres redondear los números? [1]Al alza [2]A la baja [3]Normal: \")\n",
    "    \n",
    "    lista = []\n",
    "    \n",
    "    for i in range(numeros):\n",
    "        numero = random.uniform(0,101)\n",
    "        if modo == 1:\n",
    "            print(\"{} => {}\".format(numero, math.ceil(numero)) )\n",
    "            numero = math.ceil(numero)\n",
    "        elif modo == 2:\n",
    "            print(\"{} => {}\".format(numero, math.floor(numero)) )\n",
    "            numero = math.floor(numero)\n",
    "        elif modo == 3:\n",
    "            print(\"{} => {}\".format(numero, round(numero)) )\n",
    "            numero = round(numero)     \n",
    "        lista.append(numero)\n",
    "        \n",
    "    return lista\n",
    "\n",
    "generador()"
   ]
  },
  {
   "cell_type": "code",
   "execution_count": null,
   "id": "79695eee",
   "metadata": {},
   "outputs": [],
   "source": []
  }
 ],
 "metadata": {
  "kernelspec": {
   "display_name": "Python 3 (ipykernel)",
   "language": "python",
   "name": "python3"
  },
  "language_info": {
   "codemirror_mode": {
    "name": "ipython",
    "version": 3
   },
   "file_extension": ".py",
   "mimetype": "text/x-python",
   "name": "python",
   "nbconvert_exporter": "python",
   "pygments_lexer": "ipython3",
   "version": "3.11.3"
  }
 },
 "nbformat": 4,
 "nbformat_minor": 5
}
